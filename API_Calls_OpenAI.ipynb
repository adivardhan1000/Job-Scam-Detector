{
 "cells": [
  {
   "cell_type": "code",
   "execution_count": 1,
   "metadata": {},
   "outputs": [],
   "source": [
    "import json\n",
    "from openai import OpenAI\n",
    "from dotenv import load_dotenv\n",
    "\n",
    "load_dotenv() \n",
    "client = OpenAI()\n",
    "\n",
    "# Specify the path to your JSON file\n",
    "file_path = 'test_data.json'\n",
    "data = []\n",
    "# Open and read the JSON file\n",
    "with open(file_path, 'r', encoding='utf-8') as json_file:\n",
    "    for line in json_file:\n",
    "        # Process each line using json.loads()\n",
    "        json_data = json.loads(line)\n",
    "\n",
    "        # Now 'json_data' contains the data from the current line\n",
    "        data.append(json_data)\n",
    "# Now, 'data' contains the contents of your JSON file\n",
    "# print(data[0])\n",
    "\n",
    "output = []\n",
    "\n",
    "response = client.chat.completions.create(\n",
    "  model=\"ft:gpt-3.5-turbo-0613:personal::8P1FVa43\",\n",
    "  messages=[data[0]['messages'][0], data[0]['messages'][1]]\n",
    ")"
   ]
  },
  {
   "cell_type": "code",
   "execution_count": 2,
   "metadata": {},
   "outputs": [
    {
     "name": "stdout",
     "output_type": "stream",
     "text": [
      "ChatCompletion(id='chatcmpl-8P2HCKFwO6hmotZYalrVxGClvhN3J', choices=[Choice(finish_reason='stop', index=0, message=ChatCompletionMessage(content='Scam', role='assistant', function_call=None, tool_calls=None))], created=1700977642, model='ft:gpt-3.5-turbo-0613:personal::8P1FVa43', object='chat.completion', system_fingerprint=None, usage=CompletionUsage(completion_tokens=2, prompt_tokens=601, total_tokens=603))\n"
     ]
    }
   ],
   "source": [
    "print(response)"
   ]
  },
  {
   "cell_type": "code",
   "execution_count": 9,
   "metadata": {},
   "outputs": [
    {
     "name": "stdout",
     "output_type": "stream",
     "text": [
      "Scam\n"
     ]
    }
   ],
   "source": [
    "print(response.choices[0].message.content)"
   ]
  },
  {
   "cell_type": "code",
   "execution_count": 10,
   "metadata": {},
   "outputs": [
    {
     "data": {
      "text/plain": [
       "{'role': 'assistant', 'content': 'Scam'}"
      ]
     },
     "execution_count": 10,
     "metadata": {},
     "output_type": "execute_result"
    }
   ],
   "source": [
    "data[0]['messages'][2]"
   ]
  },
  {
   "cell_type": "code",
   "execution_count": null,
   "metadata": {},
   "outputs": [],
   "source": []
  }
 ],
 "metadata": {
  "kernelspec": {
   "display_name": "Python 3",
   "language": "python",
   "name": "python3"
  },
  "language_info": {
   "codemirror_mode": {
    "name": "ipython",
    "version": 3
   },
   "file_extension": ".py",
   "mimetype": "text/x-python",
   "name": "python",
   "nbconvert_exporter": "python",
   "pygments_lexer": "ipython3",
   "version": "3.11.4"
  }
 },
 "nbformat": 4,
 "nbformat_minor": 2
}
